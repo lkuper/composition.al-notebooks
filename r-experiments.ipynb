{
 "cells": [
  {
   "cell_type": "code",
   "execution_count": 30,
   "metadata": {},
   "outputs": [],
   "source": [
    "import numpy as np\n",
    "from datascience import *\n",
    "from datetime import date\n",
    "import matplotlib\n",
    "%matplotlib inline\n",
    "import matplotlib.pyplot as plots\n",
    "default_dpi = plots.rcParamsDefault['figure.dpi']"
   ]
  },
  {
   "cell_type": "code",
   "execution_count": 40,
   "metadata": {},
   "outputs": [
    {
     "data": {
      "text/html": [
       "<table border=\"1\" class=\"dataframe\">\n",
       "    <thead>\n",
       "        <tr>\n",
       "            <th>x</th> <th>y</th> <th>y2</th> <th>-y</th> <th>-y2</th> <th>y0</th>\n",
       "        </tr>\n",
       "    </thead>\n",
       "    <tbody>\n",
       "        <tr>\n",
       "            <td>0   </td> <td>0   </td> <td>0   </td> <td>0   </td> <td>0   </td> <td>0   </td>\n",
       "        </tr>\n",
       "        <tr>\n",
       "            <td>1   </td> <td>1   </td> <td>2   </td> <td>-1  </td> <td>-2  </td> <td>0   </td>\n",
       "        </tr>\n",
       "        <tr>\n",
       "            <td>2   </td> <td>2   </td> <td>4   </td> <td>-2  </td> <td>-4  </td> <td>0   </td>\n",
       "        </tr>\n",
       "        <tr>\n",
       "            <td>3   </td> <td>3   </td> <td>6   </td> <td>-3  </td> <td>-6  </td> <td>0   </td>\n",
       "        </tr>\n",
       "        <tr>\n",
       "            <td>4   </td> <td>4   </td> <td>8   </td> <td>-4  </td> <td>-8  </td> <td>0   </td>\n",
       "        </tr>\n",
       "        <tr>\n",
       "            <td>5   </td> <td>5   </td> <td>10  </td> <td>-5  </td> <td>-10 </td> <td>0   </td>\n",
       "        </tr>\n",
       "    </tbody>\n",
       "</table>"
      ],
      "text/plain": [
       "x    | y    | y2   | -y   | -y2  | y0\n",
       "0    | 0    | 0    | 0    | 0    | 0\n",
       "1    | 1    | 2    | -1   | -2   | 0\n",
       "2    | 2    | 4    | -2   | -4   | 0\n",
       "3    | 3    | 6    | -3   | -6   | 0\n",
       "4    | 4    | 8    | -4   | -8   | 0\n",
       "5    | 5    | 10   | -5   | -10  | 0"
      ]
     },
     "execution_count": 40,
     "metadata": {},
     "output_type": "execute_result"
    }
   ],
   "source": [
    "example = Table().with_columns([\n",
    "    \"x\", [0, 1, 2, 3, 4, 5],\n",
    "    \"y\", [0, 1, 2, 3, 4, 5],\n",
    "    \"y2\", [0, 2, 4, 6, 8, 10],\n",
    "    \"-y\", [0, -1, -2, -3, -4, -5],\n",
    "    \"-y2\", [0, -2, -4, -6, -8, -10],\n",
    "    \"y0\", [0, 0, 0, 0, 0, 0]\n",
    "\n",
    "])\n",
    "example"
   ]
  },
  {
   "cell_type": "code",
   "execution_count": 41,
   "metadata": {},
   "outputs": [
    {
     "data": {
      "image/png": "[encoded data removed]",
      "text/plain": [
       "<Figure size 360x360 with 1 Axes>"
      ]
     },
     "metadata": {},
     "output_type": "display_data"
    }
   ],
   "source": [
    "example.scatter(\"x\")"
   ]
  },
  {
   "cell_type": "code",
   "execution_count": 43,
   "metadata": {},
   "outputs": [
    {
     "name": "stderr",
     "output_type": "stream",
     "text": [
      "/anaconda3/lib/python3.6/site-packages/ipykernel_launcher.py:2: RuntimeWarning: invalid value encountered in true_divide\n",
      "  \n"
     ]
    },
    {
     "data": {
      "text/html": [
       "<table border=\"1\" class=\"dataframe\">\n",
       "    <thead>\n",
       "        <tr>\n",
       "            <th>x</th> <th>y</th> <th>y2</th> <th>-y</th> <th>-y2</th> <th>y0</th> <th>x (standard units)</th> <th>y (standard units)</th> <th>y2 (standard units)</th> <th>-y (standard units)</th> <th>-y2 (standard units)</th> <th>y0 (standard units)</th>\n",
       "        </tr>\n",
       "    </thead>\n",
       "    <tbody>\n",
       "        <tr>\n",
       "            <td>0   </td> <td>0   </td> <td>0   </td> <td>0   </td> <td>0   </td> <td>0   </td> <td>-1.46385          </td> <td>-1.46385          </td> <td>-1.46385           </td> <td>1.46385            </td> <td>1.46385             </td> <td>nan                </td>\n",
       "        </tr>\n",
       "        <tr>\n",
       "            <td>1   </td> <td>1   </td> <td>2   </td> <td>-1  </td> <td>-2  </td> <td>0   </td> <td>-0.87831          </td> <td>-0.87831          </td> <td>-0.87831           </td> <td>0.87831            </td> <td>0.87831             </td> <td>nan                </td>\n",
       "        </tr>\n",
       "        <tr>\n",
       "            <td>2   </td> <td>2   </td> <td>4   </td> <td>-2  </td> <td>-4  </td> <td>0   </td> <td>-0.29277          </td> <td>-0.29277          </td> <td>-0.29277           </td> <td>0.29277            </td> <td>0.29277             </td> <td>nan                </td>\n",
       "        </tr>\n",
       "        <tr>\n",
       "            <td>3   </td> <td>3   </td> <td>6   </td> <td>-3  </td> <td>-6  </td> <td>0   </td> <td>0.29277           </td> <td>0.29277           </td> <td>0.29277            </td> <td>-0.29277           </td> <td>-0.29277            </td> <td>nan                </td>\n",
       "        </tr>\n",
       "        <tr>\n",
       "            <td>4   </td> <td>4   </td> <td>8   </td> <td>-4  </td> <td>-8  </td> <td>0   </td> <td>0.87831           </td> <td>0.87831           </td> <td>0.87831            </td> <td>-0.87831           </td> <td>-0.87831            </td> <td>nan                </td>\n",
       "        </tr>\n",
       "        <tr>\n",
       "            <td>5   </td> <td>5   </td> <td>10  </td> <td>-5  </td> <td>-10 </td> <td>0   </td> <td>1.46385           </td> <td>1.46385           </td> <td>1.46385            </td> <td>-1.46385           </td> <td>-1.46385            </td> <td>nan                </td>\n",
       "        </tr>\n",
       "    </tbody>\n",
       "</table>"
      ],
      "text/plain": [
       "x    | y    | y2   | -y   | -y2  | y0   | x (standard units) | y (standard units) | y2 (standard units) | -y (standard units) | -y2 (standard units) | y0 (standard units)\n",
       "0    | 0    | 0    | 0    | 0    | 0    | -1.46385           | -1.46385           | -1.46385            | 1.46385             | 1.46385              | nan\n",
       "1    | 1    | 2    | -1   | -2   | 0    | -0.87831           | -0.87831           | -0.87831            | 0.87831             | 0.87831              | nan\n",
       "2    | 2    | 4    | -2   | -4   | 0    | -0.29277           | -0.29277           | -0.29277            | 0.29277             | 0.29277              | nan\n",
       "3    | 3    | 6    | -3   | -6   | 0    | 0.29277            | 0.29277            | 0.29277             | -0.29277            | -0.29277             | nan\n",
       "4    | 4    | 8    | -4   | -8   | 0    | 0.87831            | 0.87831            | 0.87831             | -0.87831            | -0.87831             | nan\n",
       "5    | 5    | 10   | -5   | -10  | 0    | 1.46385            | 1.46385            | 1.46385             | -1.46385            | -1.46385             | nan"
      ]
     },
     "execution_count": 43,
     "metadata": {},
     "output_type": "execute_result"
    }
   ],
   "source": [
    "def standard_units(nums):\n",
    "    return (nums - np.mean(nums)) / np.std(nums)\n",
    "\n",
    "example_standard = example.with_columns([\n",
    "    \"x (standard units)\", standard_units(example.column(\"x\")),\n",
    "    \"y (standard units)\", standard_units(example.column(\"y\")),\n",
    "    \"y2 (standard units)\", standard_units(example.column(\"y2\")),\n",
    "    \"-y (standard units)\", standard_units(example.column(\"-y\")),\n",
    "    \"-y2 (standard units)\", standard_units(example.column(\"-y2\")),\n",
    "    \"y0 (standard units)\", standard_units(example.column(\"y0\"))\n",
    "\n",
    "\n",
    "])\n",
    "example_standard"
   ]
  },
  {
   "cell_type": "code",
   "execution_count": 34,
   "metadata": {},
   "outputs": [
    {
     "data": {
      "text/html": [
       "<table border=\"1\" class=\"dataframe\">\n",
       "    <thead>\n",
       "        <tr>\n",
       "            <th>x</th> <th>y</th> <th>y2</th> <th>-y</th> <th>-y2</th> <th>x (standard units)</th> <th>y (standard units)</th> <th>y2 (standard units)</th> <th>-y (standard units)</th> <th>-y2 (standard units)</th> <th>x * y</th> <th>x * y2</th> <th>x * -y</th> <th>x * -y2</th>\n",
       "        </tr>\n",
       "    </thead>\n",
       "    <tbody>\n",
       "        <tr>\n",
       "            <td>0   </td> <td>0   </td> <td>0   </td> <td>0   </td> <td>0   </td> <td>-1.46385          </td> <td>-1.46385          </td> <td>-1.46385           </td> <td>1.46385            </td> <td>1.46385             </td> <td>2.14286  </td> <td>2.14286  </td> <td>-2.14286  </td> <td>-2.14286  </td>\n",
       "        </tr>\n",
       "        <tr>\n",
       "            <td>1   </td> <td>1   </td> <td>2   </td> <td>-1  </td> <td>-2  </td> <td>-0.87831          </td> <td>-0.87831          </td> <td>-0.87831           </td> <td>0.87831            </td> <td>0.87831             </td> <td>0.771429 </td> <td>0.771429 </td> <td>-0.771429 </td> <td>-0.771429 </td>\n",
       "        </tr>\n",
       "        <tr>\n",
       "            <td>2   </td> <td>2   </td> <td>4   </td> <td>-2  </td> <td>-4  </td> <td>-0.29277          </td> <td>-0.29277          </td> <td>-0.29277           </td> <td>0.29277            </td> <td>0.29277             </td> <td>0.0857143</td> <td>0.0857143</td> <td>-0.0857143</td> <td>-0.0857143</td>\n",
       "        </tr>\n",
       "        <tr>\n",
       "            <td>3   </td> <td>3   </td> <td>6   </td> <td>-3  </td> <td>-6  </td> <td>0.29277           </td> <td>0.29277           </td> <td>0.29277            </td> <td>-0.29277           </td> <td>-0.29277            </td> <td>0.0857143</td> <td>0.0857143</td> <td>-0.0857143</td> <td>-0.0857143</td>\n",
       "        </tr>\n",
       "        <tr>\n",
       "            <td>4   </td> <td>4   </td> <td>8   </td> <td>-4  </td> <td>-8  </td> <td>0.87831           </td> <td>0.87831           </td> <td>0.87831            </td> <td>-0.87831           </td> <td>-0.87831            </td> <td>0.771429 </td> <td>0.771429 </td> <td>-0.771429 </td> <td>-0.771429 </td>\n",
       "        </tr>\n",
       "        <tr>\n",
       "            <td>5   </td> <td>5   </td> <td>10  </td> <td>-5  </td> <td>-10 </td> <td>1.46385           </td> <td>1.46385           </td> <td>1.46385            </td> <td>-1.46385           </td> <td>-1.46385            </td> <td>2.14286  </td> <td>2.14286  </td> <td>-2.14286  </td> <td>-2.14286  </td>\n",
       "        </tr>\n",
       "    </tbody>\n",
       "</table>"
      ],
      "text/plain": [
       "x    | y    | y2   | -y   | -y2  | x (standard units) | y (standard units) | y2 (standard units) | -y (standard units) | -y2 (standard units) | x * y     | x * y2    | x * -y     | x * -y2\n",
       "0    | 0    | 0    | 0    | 0    | -1.46385           | -1.46385           | -1.46385            | 1.46385             | 1.46385              | 2.14286   | 2.14286   | -2.14286   | -2.14286\n",
       "1    | 1    | 2    | -1   | -2   | -0.87831           | -0.87831           | -0.87831            | 0.87831             | 0.87831              | 0.771429  | 0.771429  | -0.771429  | -0.771429\n",
       "2    | 2    | 4    | -2   | -4   | -0.29277           | -0.29277           | -0.29277            | 0.29277             | 0.29277              | 0.0857143 | 0.0857143 | -0.0857143 | -0.0857143\n",
       "3    | 3    | 6    | -3   | -6   | 0.29277            | 0.29277            | 0.29277             | -0.29277            | -0.29277             | 0.0857143 | 0.0857143 | -0.0857143 | -0.0857143\n",
       "4    | 4    | 8    | -4   | -8   | 0.87831            | 0.87831            | 0.87831             | -0.87831            | -0.87831             | 0.771429  | 0.771429  | -0.771429  | -0.771429\n",
       "5    | 5    | 10   | -5   | -10  | 1.46385            | 1.46385            | 1.46385             | -1.46385            | -1.46385             | 2.14286   | 2.14286   | -2.14286   | -2.14286"
      ]
     },
     "execution_count": 34,
     "metadata": {},
     "output_type": "execute_result"
    }
   ],
   "source": [
    "example_standard_with_products = example_standard.with_columns([\n",
    "    \"x * y\", example_standard.column(\"x (standard units)\") * example_standard.column(\"y (standard units)\"),\n",
    "    \"x * y2\", example_standard.column(\"x (standard units)\") * example_standard.column(\"y2 (standard units)\"),\n",
    "    \"x * -y\", example_standard.column(\"x (standard units)\") * example_standard.column(\"-y (standard units)\"),\n",
    "    \"x * -y2\", example_standard.column(\"x (standard units)\") * example_standard.column(\"-y2 (standard units)\")\n",
    "    \n",
    "])\n",
    "example_standard_with_products"
   ]
  },
  {
   "cell_type": "code",
   "execution_count": 35,
   "metadata": {},
   "outputs": [
    {
     "data": {
      "text/plain": [
       "1.0"
      ]
     },
     "execution_count": 35,
     "metadata": {},
     "output_type": "execute_result"
    }
   ],
   "source": [
    "r_x_y = np.average(example_standard_with_products.column(\"x * y\"))\n",
    "r_x_y"
   ]
  },
  {
   "cell_type": "code",
   "execution_count": 36,
   "metadata": {},
   "outputs": [
    {
     "data": {
      "text/plain": [
       "1.0"
      ]
     },
     "execution_count": 36,
     "metadata": {},
     "output_type": "execute_result"
    }
   ],
   "source": [
    "r_x_y2 = np.average(example_standard_with_products.column(\"x * y2\"))\n",
    "r_x_y2"
   ]
  },
  {
   "cell_type": "code",
   "execution_count": 37,
   "metadata": {},
   "outputs": [
    {
     "data": {
      "text/plain": [
       "-1.0"
      ]
     },
     "execution_count": 37,
     "metadata": {},
     "output_type": "execute_result"
    }
   ],
   "source": [
    "r_x_neg_y = np.average(example_standard_with_products.column(\"x * -y\"))\n",
    "r_x_neg_y"
   ]
  },
  {
   "cell_type": "code",
   "execution_count": 38,
   "metadata": {},
   "outputs": [
    {
     "data": {
      "text/plain": [
       "-1.0"
      ]
     },
     "execution_count": 38,
     "metadata": {},
     "output_type": "execute_result"
    }
   ],
   "source": [
    "r_x_neg_y2 = np.average(example_standard_with_products.column(\"x * -y2\"))\n",
    "r_x_neg_y2"
   ]
  },
  {
   "cell_type": "markdown",
   "metadata": {},
   "source": [
    "The correlation coefficient measures how close the data is to a straight line.  It doesn't matter which straight line, because with standard units, every straight line with a positive slope turns into `y = x`, and every straight line with a negative slope turns into `y = -x`.  (For a slope of 0, apparently it's undefined.)"
   ]
  },
  {
   "cell_type": "code",
   "execution_count": null,
   "metadata": {},
   "outputs": [],
   "source": []
  }
 ],
 "metadata": {
  "kernelspec": {
   "display_name": "Python 3",
   "language": "python",
   "name": "python3"
  },
  "language_info": {
   "codemirror_mode": {
    "name": "ipython",
    "version": 3
   },
   "file_extension": ".py",
   "mimetype": "text/x-python",
   "name": "python",
   "nbconvert_exporter": "python",
   "pygments_lexer": "ipython3",
   "version": "3.6.5"
  }
 },
 "nbformat": 4,
 "nbformat_minor": 2
}
